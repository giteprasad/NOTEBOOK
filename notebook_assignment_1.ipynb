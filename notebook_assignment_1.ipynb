{
 "cells": [
  {
   "cell_type": "markdown",
   "id": "b86d7790",
   "metadata": {},
   "source": [
    "#NOTEBOOK"
   ]
  },
  {
   "cell_type": "markdown",
   "id": "40015978",
   "metadata": {},
   "source": [
    "#INTRODUCTION"
   ]
  },
  {
   "cell_type": "markdown",
   "id": "461c3f37",
   "metadata": {},
   "source": [
    "## Data Science Languages\n",
    "\n",
    "- Python\n",
    "- R\n",
    "- SQL\n",
    "- Julia\n",
    "- Java\n",
    "- Scala"
   ]
  },
  {
   "cell_type": "markdown",
   "id": "aaf3d884",
   "metadata": {},
   "source": [
    "## Data Science Libraries\n",
    "\n",
    "- Pandas\n",
    "- NumPy\n",
    "- Matplotlib\n",
    "- Seaborn\n",
    "- Scikit-learn\n",
    "- TensorFlow\n",
    "- Keras\n",
    "- PyTorch\n"
   ]
  },
  {
   "cell_type": "markdown",
   "id": "76808479",
   "metadata": {},
   "source": [
    "## Data Science Tools\n",
    "\n",
    "| Tool           | Description                                   |\n",
    "|----------------|-----------------------------------------------|\n",
    "| Jupyter Notebook | Interactive computing environment for data analysis |\n",
    "| RStudio        | Integrated development environment for R      |\n",
    "| Apache Hadoop  | Framework for distributed storage and processing of big data |\n",
    "| Apache Spark   | Unified analytics engine for large-scale data processing |\n",
    "| Tableau        | Data visualization software                   |\n"
   ]
  },
  {
   "cell_type": "markdown",
   "id": "3ba64b38",
   "metadata": {},
   "source": [
    "## Arithmetic Expression Examples\n",
    "\n",
    "Below are some basic arithmetic expressions demonstrating addition, subtraction, multiplication, and division.\n"
   ]
  },
  {
   "cell_type": "code",
   "execution_count": 2,
   "id": "6e0214da",
   "metadata": {},
   "outputs": [
    {
     "data": {
      "text/plain": [
       "(35, 13)"
      ]
     },
     "execution_count": 2,
     "metadata": {},
     "output_type": "execute_result"
    }
   ],
   "source": [
    "# Multiplying two numbers\n",
    "multiplication_result = 5 * 7\n",
    "\n",
    "# Adding two numbers\n",
    "addition_result = 10 + 3\n",
    "\n",
    "# Displaying the results\n",
    "multiplication_result, addition_result\n"
   ]
  },
  {
   "cell_type": "code",
   "execution_count": 3,
   "id": "b7ff570e",
   "metadata": {},
   "outputs": [
    {
     "data": {
      "text/plain": [
       "2.5"
      ]
     },
     "execution_count": 3,
     "metadata": {},
     "output_type": "execute_result"
    }
   ],
   "source": [
    "# Function to convert minutes to hours\n",
    "def minutes_to_hours(minutes):\n",
    "    return minutes / 60\n",
    "\n",
    "# Example: Convert 150 minutes to hours\n",
    "minutes = 150\n",
    "hours = minutes_to_hours(minutes)\n",
    "\n",
    "# Display the result\n",
    "hours\n"
   ]
  },
  {
   "cell_type": "markdown",
   "id": "4a79640c",
   "metadata": {},
   "source": [
    "## Objectives\n",
    "\n",
    "- Understand the basic operations of Jupyter Notebook.\n",
    "- Learn how to use markdown cells for documentation and formatting.\n",
    "- Practice writing Python code for basic arithmetic operations.\n",
    "- Convert units using simple Python functions.\n",
    "- Explore common data science tools and libraries.\n"
   ]
  },
  {
   "cell_type": "markdown",
   "id": "b4723f8b",
   "metadata": {},
   "source": [
    "## Author\n",
    "\n",
    "Pasad Suryabhan Gite\n"
   ]
  },
  {
   "cell_type": "code",
   "execution_count": null,
   "id": "91e72020",
   "metadata": {},
   "outputs": [],
   "source": []
  }
 ],
 "metadata": {
  "kernelspec": {
   "display_name": "Python 3 (ipykernel)",
   "language": "python",
   "name": "python3"
  },
  "language_info": {
   "codemirror_mode": {
    "name": "ipython",
    "version": 3
   },
   "file_extension": ".py",
   "mimetype": "text/x-python",
   "name": "python",
   "nbconvert_exporter": "python",
   "pygments_lexer": "ipython3",
   "version": "3.11.1"
  }
 },
 "nbformat": 4,
 "nbformat_minor": 5
}
